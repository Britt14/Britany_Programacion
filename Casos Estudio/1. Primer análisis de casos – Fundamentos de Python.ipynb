{
 "cells": [
  {
   "cell_type": "markdown",
   "metadata": {
    "id": "q7R3dARlFtDY"
   },
   "source": [
    "# Primer análisis de casos – Fundamentos de Python\n",
    "\n",
    "### **Portada:**\n",
    "Título: \"Primer análisis de casos – Fundamentos de Python\".\n",
    "Britany López.\n",
    "Jueves 09 de Octubre de 2025.\n",
    "Curso de Programación.\n",
    "\n",
    "### **Introducción:**\n",
    "Esta tarea tiene como finalidad aplicar el conocimiento adquirido durante el curso de Programación utilizando Python. Así mismo, \n",
    "se realizará el código ejecutable de cuatro ejercicios diferentes: los cuales son el cálculo del área de un trángulo, coversión de grados Centígrados a Fahrenheit, calcular la longitud de un edificio y comparar la edad de dos usuarios. \n",
    "\n",
    "### **Conclusión:**\n",
    "Los ejercicios realizados fueron ejecutados de forma exitosa, donde se fortaleció la lógica de programación para brindar soluciones de acuerdo con lo que el cliente requiere. \n",
    "Como parte de las limitaciones fue la búsqueda de fórmulas matemáticas que se adapten al problema y al desarrollo del código. "
   ]
  },
  {
   "cell_type": "markdown",
   "metadata": {},
   "source": [
    "# Problema #1\n",
    "\n",
    "### Calcular el área de un triángulo a partir de la base y altura ingresadas.\n",
    "\n",
    "## Entrada: \n",
    "Leer la base del triángulo\n",
    "Leer la altura del triángulo \n",
    "\n",
    "## Proceso:\n",
    "\n",
    "base * altura\n",
    "\n",
    "## Salida:\n",
    "\n",
    "El área del trángulo"
   ]
  },
  {
   "cell_type": "code",
   "execution_count": null,
   "metadata": {
    "colab": {
     "base_uri": "https://localhost:8080/"
    },
    "executionInfo": {
     "elapsed": 10485,
     "status": "ok",
     "timestamp": 1712064323417,
     "user": {
      "displayName": "Andrés Mena Abarca",
      "userId": "07418092259593836578"
     },
     "user_tz": 360
    },
    "id": "n3rOsUESDeTs",
    "outputId": "1cd40ed7-f1d2-4b89-bca5-696418df0021"
   },
   "outputs": [
    {
     "name": "stdout",
     "output_type": "stream",
     "text": [
      "\n",
      "El área del triángulo es igual a 500\n"
     ]
    }
   ],
   "source": [
    "# Problema #1\n",
    "\n",
    "#solcitarle al usuario la medida de la base y altura del triángulo\n",
    "base = int(input(\"Ingrese la medida de la base del triángulo: \"))\n",
    "altura = int(input(\"Ingrese la medida de la altura del triángulo: \"))\n",
    "\n",
    "area = base * altura #Operación\n",
    "\n",
    "print(f\"El área del triángulo es igual a {area}\")\n"
   ]
  },
  {
   "cell_type": "markdown",
   "metadata": {},
   "source": [
    "# Problema #2\n",
    "\n",
    "### Convertir grados centígrados a Fahrenheit.\n",
    "\n",
    "## Entrada: \n",
    "Leer los grados centígrados\n",
    "\n",
    "## Proceso:\n",
    "conversión = (centigrados * 1.8) + 32\n",
    "\n",
    "## Salida:\n",
    "Conversión a grados Farenheit"
   ]
  },
  {
   "cell_type": "code",
   "execution_count": null,
   "metadata": {},
   "outputs": [
    {
     "name": "stdout",
     "output_type": "stream",
     "text": [
      "12.6 grados centígrados son equivalentes a 54.68 grados Fahrenheit.\n"
     ]
    }
   ],
   "source": [
    "# Problema #2\n",
    "\n",
    "#solcitarle al usuario los grados centígrados\n",
    "centigrados = float(input(\"Ingrese los grados centígrados que desea convertir a Fahrenheit: \"))\n",
    "\n",
    "conversion = (centigrados * 1.8) + 32 #Operación\n",
    "\n",
    "print(f\"{centigrados} grados centígrados son equivalentes a {conversion} grados Fahrenheit.\")\n"
   ]
  },
  {
   "cell_type": "markdown",
   "metadata": {},
   "source": [
    "# Problema #3\n",
    "\n",
    "### Comparar si la edad ingresada por dos usuarios es la misma.\n",
    "\n",
    "## Entrada:\n",
    "Leer edad del usuario 1\n",
    "Leer edad del usuario 2\n",
    "\n",
    "## Proceso:\n",
    "Si (edadUsuario1 == edadUsuario 2)\n",
    "Entonces los usuarios tienen la misma edad. De lo contrario, no tendrían la misma edad. \n",
    "\n",
    "## Salida:\n",
    "Mensaje con el resultado de la comparación de edades. "
   ]
  },
  {
   "cell_type": "code",
   "execution_count": null,
   "metadata": {},
   "outputs": [
    {
     "name": "stdout",
     "output_type": "stream",
     "text": [
      "Los usuarios no tienen la misma edad.\n"
     ]
    }
   ],
   "source": [
    "# Problema #3\n",
    "\n",
    "#solcitar la edad de dos usuarios distintos\n",
    "edadUsuario1 = int(input(\"Ingrese la cantidad del primer usuario: \"))\n",
    "edadUsuario2 = int(input(\"Ingrese la cantidad del segundo usuario: \"))\n",
    "\n",
    "#Condicionales para validar la edad de los usuarios\n",
    "if edadUsuario1 == edadUsuario2:\n",
    "    print(\"Los usuarios tienen la misma edad.\")\n",
    "else:\n",
    "    print(\"Los usuarios no tienen la misma edad.\") "
   ]
  },
  {
   "cell_type": "markdown",
   "metadata": {},
   "source": [
    "# Problema #4\n",
    "\n",
    "### Calcular la longitud de la sombre de un edificio de 20 metros.\n",
    "\n",
    "## Entrada:\n",
    "Leer altura del edificio.\n",
    "Leer ángulo de elevación.\n",
    "\n",
    "## Proceso:\n",
    "longitud =  altura / tangente(ángulo de elevación)\n",
    "\n",
    "\n",
    "## Salida:\n",
    "La longitud de un edificio de 20 metros."
   ]
  },
  {
   "cell_type": "code",
   "execution_count": null,
   "metadata": {},
   "outputs": [
    {
     "name": "stdout",
     "output_type": "stream",
     "text": [
      "La longitud de un edificio de 20 metros es de 34.64\n"
     ]
    }
   ],
   "source": [
    "# Problema #4\n",
    "\n",
    "#Librería que permite utilizar las funciones de math.radians y math.tan\n",
    "import math \n",
    "\n",
    "\n",
    "altura = 20\n",
    "\n",
    "anguloElevacion = float(input(\"Ingrese el ángulo de elevación del edificio de 20 metros: \"))\n",
    "\n",
    "#Se realiza la conversión a radianes, ya que este formato se requiere para obtener la tangente del ángulo de elevación\n",
    "anguloElevacion_Radianes = math.radians(anguloElevacion) \n",
    "\n",
    "#Se utiliza la función math.tan para obetener la tangente del ángulo de elevación\n",
    "tangente = math.tan(anguloElevacion_Radianes)\n",
    "\n",
    "longitud = altura / tangente #Operación\n",
    "\n",
    "print(f\"La longitud de un edificio de 20 metros es de {format(longitud, \".2f\")}\")\n",
    "\n",
    "\n",
    "\n"
   ]
  }
 ],
 "metadata": {
  "colab": {
   "provenance": []
  },
  "kernelspec": {
   "display_name": "Python 3",
   "name": "python3"
  },
  "language_info": {
   "codemirror_mode": {
    "name": "ipython",
    "version": 3
   },
   "file_extension": ".py",
   "mimetype": "text/x-python",
   "name": "python",
   "nbconvert_exporter": "python",
   "pygments_lexer": "ipython3",
   "version": "3.13.7"
  }
 },
 "nbformat": 4,
 "nbformat_minor": 0
}
